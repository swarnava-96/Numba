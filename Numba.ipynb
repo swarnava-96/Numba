{
  "nbformat": 4,
  "nbformat_minor": 0,
  "metadata": {
    "colab": {
      "name": "Numba",
      "provenance": [],
      "collapsed_sections": [],
      "authorship_tag": "ABX9TyPAhAN41CUZMZUT6vWN4oNL",
      "include_colab_link": true
    },
    "kernelspec": {
      "name": "python3",
      "display_name": "Python 3"
    },
    "language_info": {
      "name": "python"
    }
  },
  "cells": [
    {
      "cell_type": "markdown",
      "metadata": {
        "id": "view-in-github",
        "colab_type": "text"
      },
      "source": [
        "<a href=\"https://colab.research.google.com/github/swarnava-96/Numba/blob/main/Numba.ipynb\" target=\"_parent\"><img src=\"https://colab.research.google.com/assets/colab-badge.svg\" alt=\"Open In Colab\"/></a>"
      ]
    },
    {
      "cell_type": "code",
      "metadata": {
        "colab": {
          "base_uri": "https://localhost:8080/"
        },
        "id": "pyoAZXiAKIDx",
        "outputId": "425db8d8-7c69-4e7a-954d-4726c6a24650"
      },
      "source": [
        "!pip install numba"
      ],
      "execution_count": 1,
      "outputs": [
        {
          "output_type": "stream",
          "text": [
            "Requirement already satisfied: numba in /usr/local/lib/python3.7/dist-packages (0.51.2)\n",
            "Requirement already satisfied: setuptools in /usr/local/lib/python3.7/dist-packages (from numba) (57.0.0)\n",
            "Requirement already satisfied: llvmlite<0.35,>=0.34.0.dev0 in /usr/local/lib/python3.7/dist-packages (from numba) (0.34.0)\n",
            "Requirement already satisfied: numpy>=1.15 in /usr/local/lib/python3.7/dist-packages (from numba) (1.19.5)\n"
          ],
          "name": "stdout"
        }
      ]
    },
    {
      "cell_type": "markdown",
      "metadata": {
        "id": "SeDPsYvSNaS3"
      },
      "source": [
        "### Numba-- a just-in-time compiler for Python that works best on code that uses Numpy arrays,functions and loops."
      ]
    },
    {
      "cell_type": "code",
      "metadata": {
        "colab": {
          "base_uri": "https://localhost:8080/"
        },
        "id": "Nox7ESNINbf4",
        "outputId": "49aab220-6503-4e64-b432-67c7d24ab80e"
      },
      "source": [
        "from numba import jit\n",
        "import numpy as np\n",
        "import time\n",
        "X=np.arange(100).reshape(10,10)\n",
        "\n",
        "@jit(nopython=True)\n",
        "def go_fast(a):       ##function is compiled and runs in machine code.\n",
        "  trace=0.0\n",
        "  for i in range(a.shape[0]):\n",
        "    trace += np.tanh(a[i,i])\n",
        "  return a + trace \n",
        "\n",
        "##Compilation time is included in the executation time  \n",
        "start=time.time()\n",
        "go_fast(X)\n",
        "end=time.time()\n",
        "print('Elapsed(with compilation)=%s'%(end-start))\n",
        "\n",
        "##Now the function is compiled,re-time it executing from cache\n",
        "start=time.time()\n",
        "go_fast(X)\n",
        "end=time.time()\n",
        "print('Elapsed(after compilation)=%s'%(end-start))\n",
        "\n",
        "\n",
        "\n",
        "\n"
      ],
      "execution_count": 3,
      "outputs": [
        {
          "output_type": "stream",
          "text": [
            "Elapsed(with compilation)=0.5698583126068115\n",
            "Elapsed(after compilation)=5.1021575927734375e-05\n"
          ],
          "name": "stdout"
        }
      ]
    }
  ]
}